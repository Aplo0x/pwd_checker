{
 "cells": [
  {
   "cell_type": "code",
   "execution_count": 18,
   "metadata": {},
   "outputs": [],
   "source": [
    "import re"
   ]
  },
  {
   "cell_type": "code",
   "execution_count": 19,
   "metadata": {},
   "outputs": [],
   "source": [
    "def check_pwd_strength(pwd):\n",
    "    length = len(pwd)\n",
    "    if length >= 16:\n",
    "        if re.search(r\"\\d\", pwd) and re.search(r\"[!@#$%^&*()\\-_=+{};:,<.>]\", pwd) and re.search(r\"[A-Z]\", pwd) and re.search(r\"[a-z]\", pwd):\n",
    "            return \"Strong\"\n",
    "    elif 8 <= 15:\n",
    "        if re.search(r\"\\d\", pwd) and re.search(r\"[!@#$%^&*()\\-_=+{};:,<.>]\", pwd) and re.search(r\"[A-Z]\", pwd) and re.search(r\"[a-z]\", pwd):\n",
    "            return \"Medium\"\n",
    "    return \"Weak\""
   ]
  },
  {
   "cell_type": "code",
   "execution_count": 20,
   "metadata": {},
   "outputs": [],
   "source": [
    "def suggest_password_strength(pwd):\n",
    "    suggestions = []\n",
    "    \n",
    "    if not re.search(r\"\\d\", pwd):\n",
    "        suggestions.append(\"Add at least one number.\")\n",
    "    if not re.search(r\"[!@#$%^&*()\\-_=+{};:,<.>]\", pwd):\n",
    "        suggestions.append(\"Add at least one special character (e.g., @#$).\")\n",
    "    if not re.search(r\"[A-Z]\", pwd):\n",
    "        suggestions.append(\"Add at least one uppercase letter.\")\n",
    "    if not re.search(r\"[a-z]\", pwd):\n",
    "        suggestions.append(\"Add at least one lowercase letter.\")\n",
    "    \n",
    "    sequences = re.findall(r\"(\\d)\\1{1,}\", pwd)\n",
    "    for seq in sequences:\n",
    "        suggestions.append(f\"Remove the sequence '{seq}' from your password.\")\n",
    "    \n",
    "    if len(pwd) < 16:\n",
    "        suggestions.append(\"Consider having 16 or more characters for a stronger password.\")\n",
    "    \n",
    "    return suggestions"
   ]
  },
  {
   "cell_type": "code",
   "execution_count": 21,
   "metadata": {},
   "outputs": [],
   "source": [
    "password = input(\"Enter your password: \")\n",
    "strength = check_pwd_strength(password)"
   ]
  },
  {
   "cell_type": "code",
   "execution_count": 22,
   "metadata": {},
   "outputs": [
    {
     "name": "stdout",
     "output_type": "stream",
     "text": [
      "Your password is weak.\n",
      "Suggestions to make it stronger: \n",
      "- Add at least one number.\n",
      "- Add at least one special character (e.g., @#$).\n",
      "- Add at least one uppercase letter.\n",
      "- Consider having 16 or more characters for a stronger password.\n"
     ]
    }
   ],
   "source": [
    "if strength == \"Strong\":\n",
    "    print(\"Your password is strong.\")\n",
    "elif strength == \"Medium\":\n",
    "    print(\"Your password is medium.\")\n",
    "    print(\"Suggestions to make it stronger: \")\n",
    "    suggestions = suggest_password_strength(password)\n",
    "    if len(suggestions) == 0:\n",
    "        print(\"No suggestions.\")\n",
    "    else:\n",
    "        for suggestion in suggestions:\n",
    "            print(\"- \" + suggestion)\n",
    "else:\n",
    "    print(\"Your password is weak.\")\n",
    "    print(\"Suggestions to make it stronger: \")\n",
    "    suggestions = suggest_password_strength(password)\n",
    "    if len(suggestions) == 0:\n",
    "        print(\"No suggestions.\")\n",
    "    else:\n",
    "        for suggestion in suggestions:\n",
    "            print(\"- \" + suggestion)"
   ]
  }
 ],
 "metadata": {
  "kernelspec": {
   "display_name": ".venv",
   "language": "python",
   "name": "python3"
  },
  "language_info": {
   "codemirror_mode": {
    "name": "ipython",
    "version": 3
   },
   "file_extension": ".py",
   "mimetype": "text/x-python",
   "name": "python",
   "nbconvert_exporter": "python",
   "pygments_lexer": "ipython3",
   "version": "3.11.3"
  },
  "orig_nbformat": 4
 },
 "nbformat": 4,
 "nbformat_minor": 2
}
